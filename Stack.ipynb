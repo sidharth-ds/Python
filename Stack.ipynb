{
 "cells": [
  {
   "cell_type": "markdown",
   "id": "94e2cbc2",
   "metadata": {},
   "source": [
    "# modelling a Class for Stack (ie..First In Last Out)"
   ]
  },
  {
   "cell_type": "code",
   "execution_count": 1,
   "id": "23ff2c4c",
   "metadata": {},
   "outputs": [],
   "source": [
    "class Stack:\n",
    "  \n",
    "  def __init__(self):   # creating an empty stack (which is a list) \n",
    "    self.lis = []\n",
    "  \n",
    "  def push(self,elements):    # to push the data into stack\n",
    "    self.lis.append(elements)\n",
    "    return self.lis\n",
    "  \n",
    "  def pop(self):          # to pull the data from stack\n",
    "    return self.lis.pop()     #(push and pull take place at the same end)\n",
    "  \n",
    "  def printstack(self):   # to print the stack\n",
    "    return self.lis\n",
    "\n"
   ]
  },
  {
   "cell_type": "markdown",
   "id": "0e628aac",
   "metadata": {},
   "source": [
    "# creating an Object"
   ]
  },
  {
   "cell_type": "code",
   "execution_count": 2,
   "id": "fc992c68",
   "metadata": {},
   "outputs": [],
   "source": [
    "x = Stack()"
   ]
  },
  {
   "cell_type": "markdown",
   "id": "49f74643",
   "metadata": {},
   "source": [
    "# pushing the data into Stack"
   ]
  },
  {
   "cell_type": "code",
   "execution_count": 3,
   "id": "a1153f2e",
   "metadata": {},
   "outputs": [
    {
     "data": {
      "text/plain": [
       "[2]"
      ]
     },
     "execution_count": 3,
     "metadata": {},
     "output_type": "execute_result"
    }
   ],
   "source": [
    "x.push(2)"
   ]
  },
  {
   "cell_type": "code",
   "execution_count": 4,
   "id": "5ba18c7e",
   "metadata": {},
   "outputs": [
    {
     "data": {
      "text/plain": [
       "[2, 3]"
      ]
     },
     "execution_count": 4,
     "metadata": {},
     "output_type": "execute_result"
    }
   ],
   "source": [
    "x.push(3)"
   ]
  },
  {
   "cell_type": "code",
   "execution_count": 5,
   "id": "3c9ae5a6",
   "metadata": {},
   "outputs": [
    {
     "data": {
      "text/plain": [
       "[2, 3, 5]"
      ]
     },
     "execution_count": 5,
     "metadata": {},
     "output_type": "execute_result"
    }
   ],
   "source": [
    "x.push(5)"
   ]
  },
  {
   "cell_type": "code",
   "execution_count": 6,
   "id": "f9b5789f",
   "metadata": {},
   "outputs": [
    {
     "data": {
      "text/plain": [
       "[2, 3, 5, 7]"
      ]
     },
     "execution_count": 6,
     "metadata": {},
     "output_type": "execute_result"
    }
   ],
   "source": [
    "x.push(7)"
   ]
  },
  {
   "cell_type": "code",
   "execution_count": 7,
   "id": "808beb1b",
   "metadata": {},
   "outputs": [
    {
     "data": {
      "text/plain": [
       "[2, 3, 5, 7, 4]"
      ]
     },
     "execution_count": 7,
     "metadata": {},
     "output_type": "execute_result"
    }
   ],
   "source": [
    "x.push(4)"
   ]
  },
  {
   "cell_type": "code",
   "execution_count": 8,
   "id": "9e6274f0",
   "metadata": {},
   "outputs": [
    {
     "data": {
      "text/plain": [
       "[2, 3, 5, 7, 4, 1]"
      ]
     },
     "execution_count": 8,
     "metadata": {},
     "output_type": "execute_result"
    }
   ],
   "source": [
    "x.push(1)"
   ]
  },
  {
   "cell_type": "markdown",
   "id": "139e50c7",
   "metadata": {},
   "source": [
    "# pulling the data from the Stack"
   ]
  },
  {
   "cell_type": "code",
   "execution_count": 9,
   "id": "21e625c0",
   "metadata": {},
   "outputs": [
    {
     "data": {
      "text/plain": [
       "1"
      ]
     },
     "execution_count": 9,
     "metadata": {},
     "output_type": "execute_result"
    }
   ],
   "source": [
    "x.pop()"
   ]
  },
  {
   "cell_type": "code",
   "execution_count": 10,
   "id": "24345a55",
   "metadata": {},
   "outputs": [
    {
     "data": {
      "text/plain": [
       "[2, 3, 5, 7, 4]"
      ]
     },
     "execution_count": 10,
     "metadata": {},
     "output_type": "execute_result"
    }
   ],
   "source": [
    "x.printstack()"
   ]
  },
  {
   "cell_type": "code",
   "execution_count": 11,
   "id": "f6693c51",
   "metadata": {},
   "outputs": [
    {
     "data": {
      "text/plain": [
       "4"
      ]
     },
     "execution_count": 11,
     "metadata": {},
     "output_type": "execute_result"
    }
   ],
   "source": [
    "x.pop()"
   ]
  },
  {
   "cell_type": "code",
   "execution_count": 12,
   "id": "47642d9b",
   "metadata": {},
   "outputs": [
    {
     "data": {
      "text/plain": [
       "[2, 3, 5, 7]"
      ]
     },
     "execution_count": 12,
     "metadata": {},
     "output_type": "execute_result"
    }
   ],
   "source": [
    "x.printstack()"
   ]
  },
  {
   "cell_type": "code",
   "execution_count": 13,
   "id": "c96dd429",
   "metadata": {},
   "outputs": [
    {
     "data": {
      "text/plain": [
       "7"
      ]
     },
     "execution_count": 13,
     "metadata": {},
     "output_type": "execute_result"
    }
   ],
   "source": [
    "x.pop()"
   ]
  },
  {
   "cell_type": "code",
   "execution_count": 14,
   "id": "4cac9cec",
   "metadata": {},
   "outputs": [
    {
     "data": {
      "text/plain": [
       "[2, 3, 5]"
      ]
     },
     "execution_count": 14,
     "metadata": {},
     "output_type": "execute_result"
    }
   ],
   "source": [
    "x.printstack()"
   ]
  },
  {
   "cell_type": "code",
   "execution_count": 15,
   "id": "f5d099ff",
   "metadata": {},
   "outputs": [
    {
     "data": {
      "text/plain": [
       "5"
      ]
     },
     "execution_count": 15,
     "metadata": {},
     "output_type": "execute_result"
    }
   ],
   "source": [
    "x.pop()"
   ]
  },
  {
   "cell_type": "code",
   "execution_count": 16,
   "id": "2ccb2054",
   "metadata": {},
   "outputs": [
    {
     "data": {
      "text/plain": [
       "[2, 3]"
      ]
     },
     "execution_count": 16,
     "metadata": {},
     "output_type": "execute_result"
    }
   ],
   "source": [
    "x.printstack()"
   ]
  },
  {
   "cell_type": "code",
   "execution_count": 17,
   "id": "43edb44d",
   "metadata": {},
   "outputs": [
    {
     "data": {
      "text/plain": [
       "3"
      ]
     },
     "execution_count": 17,
     "metadata": {},
     "output_type": "execute_result"
    }
   ],
   "source": [
    "x.pop()"
   ]
  },
  {
   "cell_type": "code",
   "execution_count": 18,
   "id": "bbf89fff",
   "metadata": {},
   "outputs": [
    {
     "data": {
      "text/plain": [
       "[2]"
      ]
     },
     "execution_count": 18,
     "metadata": {},
     "output_type": "execute_result"
    }
   ],
   "source": [
    "x.printstack()"
   ]
  },
  {
   "cell_type": "code",
   "execution_count": 19,
   "id": "74f6df95",
   "metadata": {},
   "outputs": [
    {
     "data": {
      "text/plain": [
       "2"
      ]
     },
     "execution_count": 19,
     "metadata": {},
     "output_type": "execute_result"
    }
   ],
   "source": [
    "x.pop()"
   ]
  },
  {
   "cell_type": "code",
   "execution_count": 20,
   "id": "22627744",
   "metadata": {},
   "outputs": [
    {
     "data": {
      "text/plain": [
       "[]"
      ]
     },
     "execution_count": 20,
     "metadata": {},
     "output_type": "execute_result"
    }
   ],
   "source": [
    "x.printstack()"
   ]
  }
 ],
 "metadata": {
  "kernelspec": {
   "display_name": "Python 3 (ipykernel)",
   "language": "python",
   "name": "python3"
  },
  "language_info": {
   "codemirror_mode": {
    "name": "ipython",
    "version": 3
   },
   "file_extension": ".py",
   "mimetype": "text/x-python",
   "name": "python",
   "nbconvert_exporter": "python",
   "pygments_lexer": "ipython3",
   "version": "3.9.7"
  }
 },
 "nbformat": 4,
 "nbformat_minor": 5
}
