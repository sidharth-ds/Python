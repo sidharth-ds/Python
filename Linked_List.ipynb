{
 "cells": [
  {
   "cell_type": "markdown",
   "id": "c59a19d1",
   "metadata": {},
   "source": [
    "# modelling Linked_list using 2 classes"
   ]
  },
  {
   "cell_type": "code",
   "execution_count": 1,
   "id": "d46212ca",
   "metadata": {},
   "outputs": [],
   "source": [
    "class Head:            # to initiate the node\n",
    "  \n",
    "  def __init__(self):     \n",
    "    self.headval = None   # headval contains the address of the 1st node\n",
    "  \n",
    "  def link(self):\n",
    "    printval = self.headval\n",
    "    while printval is not None:     # None means end of list\n",
    "      print(printval.dataval)     # prints only information part (not address part)\n",
    "      printval= printval.nextval    # address part is assigned to printval, while loop continues...\n",
    "\n",
    "class  Node:             # to model the node\n",
    "  \n",
    "  def __init__(self,dataval):   # since, only one argument is passed (monday/tuesday/....)\n",
    "    self.dataval = dataval    # information part of the node\n",
    "    self.nextval = None     # address part of the node\n"
   ]
  },
  {
   "cell_type": "markdown",
   "id": "372f424f",
   "metadata": {},
   "source": [
    "# all the Nodes have to be created first:"
   ]
  },
  {
   "cell_type": "code",
   "execution_count": 2,
   "id": "0916acf3",
   "metadata": {},
   "outputs": [],
   "source": [
    "node1 = Node(\"monday\")     \n",
    "node2 = Node(\"tuesday\")      # objects are created for each node\n",
    "node3 = Node(\"wednesday\")\n",
    "node4 = Node(\"thursday\")    # need not pass values for address part, since address gets assigned automatically\n",
    "node5 = Node(\"friday\")\n",
    "node6 = Node(\"saturday\")"
   ]
  },
  {
   "cell_type": "markdown",
   "id": "d8611f4b",
   "metadata": {},
   "source": [
    "# creating an object for class Head:"
   ]
  },
  {
   "cell_type": "code",
   "execution_count": 3,
   "id": "f0e918df",
   "metadata": {},
   "outputs": [],
   "source": [
    "headr = Head()    "
   ]
  },
  {
   "cell_type": "markdown",
   "id": "465ec48f",
   "metadata": {},
   "source": [
    "# linking all the Nodes:"
   ]
  },
  {
   "cell_type": "code",
   "execution_count": 4,
   "id": "2ea654cf",
   "metadata": {},
   "outputs": [],
   "source": [
    "headr.headval = node1\n",
    "\n",
    "node1.nextval = node2   \n",
    "node2.nextval = node3\n",
    "node3.nextval = node4\n",
    "node4.nextval = node5\n",
    "node5.nextval = node6"
   ]
  },
  {
   "cell_type": "markdown",
   "id": "14aef191",
   "metadata": {},
   "source": [
    "# calling the fuction:"
   ]
  },
  {
   "cell_type": "code",
   "execution_count": 5,
   "id": "45a67f6d",
   "metadata": {},
   "outputs": [
    {
     "name": "stdout",
     "output_type": "stream",
     "text": [
      "monday\n",
      "tuesday\n",
      "wednesday\n",
      "thursday\n",
      "friday\n",
      "saturday\n"
     ]
    }
   ],
   "source": [
    "headr.link()   "
   ]
  }
 ],
 "metadata": {
  "kernelspec": {
   "display_name": "Python 3 (ipykernel)",
   "language": "python",
   "name": "python3"
  },
  "language_info": {
   "codemirror_mode": {
    "name": "ipython",
    "version": 3
   },
   "file_extension": ".py",
   "mimetype": "text/x-python",
   "name": "python",
   "nbconvert_exporter": "python",
   "pygments_lexer": "ipython3",
   "version": "3.9.7"
  }
 },
 "nbformat": 4,
 "nbformat_minor": 5
}
