{
 "cells": [
  {
   "cell_type": "markdown",
   "id": "94865385",
   "metadata": {},
   "source": [
    "# modelling a Class for Queue (ie..First In First Out)"
   ]
  },
  {
   "cell_type": "code",
   "execution_count": 1,
   "id": "d606d9b1",
   "metadata": {},
   "outputs": [],
   "source": [
    "class Queue:\n",
    "  \n",
    "  def __init__(self):   # creating a queue (which is a list)\n",
    "    self.lis = []\n",
    "  \n",
    "  def push(self,elements):    # to push data into queue\n",
    "    self.lis.append(elements)\n",
    "    return self.lis\n",
    "  \n",
    "  def pop(self):          # to pull data from the queue \n",
    "    return self.lis.pop(0)    #(push and pull take place at the different ends)\n",
    "  \n",
    "  def print(self):    # printing the queue\n",
    "    return self.lis"
   ]
  },
  {
   "cell_type": "code",
   "execution_count": 2,
   "id": "88086431",
   "metadata": {},
   "outputs": [],
   "source": [
    "q = Queue()"
   ]
  },
  {
   "cell_type": "markdown",
   "id": "84c8a181",
   "metadata": {},
   "source": [
    "# pushing the data into Queue"
   ]
  },
  {
   "cell_type": "code",
   "execution_count": 3,
   "id": "33ee3593",
   "metadata": {},
   "outputs": [
    {
     "data": {
      "text/plain": [
       "['arjun']"
      ]
     },
     "execution_count": 3,
     "metadata": {},
     "output_type": "execute_result"
    }
   ],
   "source": [
    "q.push(\"arjun\")"
   ]
  },
  {
   "cell_type": "code",
   "execution_count": 4,
   "id": "a87b6b96",
   "metadata": {},
   "outputs": [
    {
     "data": {
      "text/plain": [
       "['arjun', 'suresh']"
      ]
     },
     "execution_count": 4,
     "metadata": {},
     "output_type": "execute_result"
    }
   ],
   "source": [
    "q.push(\"suresh\")"
   ]
  },
  {
   "cell_type": "code",
   "execution_count": 5,
   "id": "3d4c7d88",
   "metadata": {},
   "outputs": [
    {
     "data": {
      "text/plain": [
       "['arjun', 'suresh', 'vishnu']"
      ]
     },
     "execution_count": 5,
     "metadata": {},
     "output_type": "execute_result"
    }
   ],
   "source": [
    "q.push(\"vishnu\")"
   ]
  },
  {
   "cell_type": "code",
   "execution_count": 6,
   "id": "b0e6ccdc",
   "metadata": {},
   "outputs": [
    {
     "data": {
      "text/plain": [
       "['arjun', 'suresh', 'vishnu', 'ramesh']"
      ]
     },
     "execution_count": 6,
     "metadata": {},
     "output_type": "execute_result"
    }
   ],
   "source": [
    "q.push(\"ramesh\")"
   ]
  },
  {
   "cell_type": "markdown",
   "id": "739a6c05",
   "metadata": {},
   "source": [
    "# pulling the data from the Queue"
   ]
  },
  {
   "cell_type": "code",
   "execution_count": 7,
   "id": "4a4574ea",
   "metadata": {},
   "outputs": [
    {
     "data": {
      "text/plain": [
       "'arjun'"
      ]
     },
     "execution_count": 7,
     "metadata": {},
     "output_type": "execute_result"
    }
   ],
   "source": [
    "q.pop()"
   ]
  },
  {
   "cell_type": "code",
   "execution_count": 8,
   "id": "1c008a20",
   "metadata": {},
   "outputs": [
    {
     "data": {
      "text/plain": [
       "['suresh', 'vishnu', 'ramesh']"
      ]
     },
     "execution_count": 8,
     "metadata": {},
     "output_type": "execute_result"
    }
   ],
   "source": [
    "q.print()"
   ]
  },
  {
   "cell_type": "code",
   "execution_count": 9,
   "id": "75cdccdc",
   "metadata": {},
   "outputs": [
    {
     "data": {
      "text/plain": [
       "'suresh'"
      ]
     },
     "execution_count": 9,
     "metadata": {},
     "output_type": "execute_result"
    }
   ],
   "source": [
    "q.pop()"
   ]
  },
  {
   "cell_type": "code",
   "execution_count": 10,
   "id": "4c481f30",
   "metadata": {},
   "outputs": [
    {
     "data": {
      "text/plain": [
       "['vishnu', 'ramesh']"
      ]
     },
     "execution_count": 10,
     "metadata": {},
     "output_type": "execute_result"
    }
   ],
   "source": [
    "q.print()"
   ]
  },
  {
   "cell_type": "code",
   "execution_count": 11,
   "id": "baff6521",
   "metadata": {},
   "outputs": [
    {
     "data": {
      "text/plain": [
       "'vishnu'"
      ]
     },
     "execution_count": 11,
     "metadata": {},
     "output_type": "execute_result"
    }
   ],
   "source": [
    "q.pop()"
   ]
  },
  {
   "cell_type": "code",
   "execution_count": 12,
   "id": "28bedc20",
   "metadata": {},
   "outputs": [
    {
     "data": {
      "text/plain": [
       "['ramesh']"
      ]
     },
     "execution_count": 12,
     "metadata": {},
     "output_type": "execute_result"
    }
   ],
   "source": [
    "q.print()"
   ]
  },
  {
   "cell_type": "code",
   "execution_count": 13,
   "id": "dd183342",
   "metadata": {},
   "outputs": [
    {
     "data": {
      "text/plain": [
       "'ramesh'"
      ]
     },
     "execution_count": 13,
     "metadata": {},
     "output_type": "execute_result"
    }
   ],
   "source": [
    "q.pop()"
   ]
  },
  {
   "cell_type": "code",
   "execution_count": 14,
   "id": "6ef4f7f3",
   "metadata": {},
   "outputs": [
    {
     "data": {
      "text/plain": [
       "[]"
      ]
     },
     "execution_count": 14,
     "metadata": {},
     "output_type": "execute_result"
    }
   ],
   "source": [
    "q.print()"
   ]
  }
 ],
 "metadata": {
  "kernelspec": {
   "display_name": "Python 3 (ipykernel)",
   "language": "python",
   "name": "python3"
  },
  "language_info": {
   "codemirror_mode": {
    "name": "ipython",
    "version": 3
   },
   "file_extension": ".py",
   "mimetype": "text/x-python",
   "name": "python",
   "nbconvert_exporter": "python",
   "pygments_lexer": "ipython3",
   "version": "3.9.7"
  }
 },
 "nbformat": 4,
 "nbformat_minor": 5
}
