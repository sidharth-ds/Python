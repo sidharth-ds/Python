{
  "nbformat": 4,
  "nbformat_minor": 0,
  "metadata": {
    "colab": {
      "name": "data structures prac.ipynb",
      "provenance": [],
      "authorship_tag": "ABX9TyNb9zpg5TPDKqJd+IfA991H",
      "include_colab_link": true
    },
    "kernelspec": {
      "name": "python3",
      "display_name": "Python 3"
    },
    "language_info": {
      "name": "python"
    }
  },
  "cells": [
    {
      "cell_type": "markdown",
      "metadata": {
        "id": "view-in-github",
        "colab_type": "text"
      },
      "source": [
        "<a href=\"https://colab.research.google.com/github/sidharth-ds/Python/blob/main/Data_Structures_Codes.ipynb\" target=\"_parent\"><img src=\"https://colab.research.google.com/assets/colab-badge.svg\" alt=\"Open In Colab\"/></a>"
      ]
    },
    {
      "cell_type": "markdown",
      "source": [
        "# LINKED LIST"
      ],
      "metadata": {
        "id": "u0W2zbJMcT2W"
      }
    },
    {
      "cell_type": "code",
      "execution_count": null,
      "metadata": {
        "id": "-SfnHQ4nSP6Y"
      },
      "outputs": [],
      "source": [
        "class Head:            # to initiate the node\n",
        "  def __init__(self):     \n",
        "    self.headval = None   # headval contains the address of the 1st node\n",
        "  \n",
        "  def link(self):\n",
        "    printval = self.headval\n",
        "    while printval is not None:     # None means end of list\n",
        "      print(printval.dataval)     # prints only information part (not address part)\n",
        "      printval= printval.nextval    # address part is assigned to printval, while loop continues\n",
        "  \n",
        "class Node:             # to model the node\n",
        "  def __init__(self,dataval):   # since, only one argument is passed (monday/tuesday/....)\n",
        "    self.dataval = dataval    # information part of the node\n",
        "    self.nextval = None     # address part of the node\n",
        "\n",
        "  "
      ]
    },
    {
      "cell_type": "code",
      "source": [
        "node1 = Node(\"monday\")     # 1st step : all the nodes have to be created\n",
        "node2 = Node(\"tuesday\")      # objects are created for each node\n",
        "node3 = Node(\"wednesday\")\n",
        "node4 = Node(\"thursday\")    # need not pass values for address part, since address gets assigned automatically\n",
        "node5 = Node(\"friday\")\n",
        "node6 = Node(\"saturday\")"
      ],
      "metadata": {
        "id": "wwvl3PdPUC-Z"
      },
      "execution_count": null,
      "outputs": []
    },
    {
      "cell_type": "code",
      "source": [
        "headr = Head()    # creating an object for class Head"
      ],
      "metadata": {
        "id": "IYep9tQqUKi-"
      },
      "execution_count": null,
      "outputs": []
    },
    {
      "cell_type": "code",
      "source": [
        "headr.headval = node1"
      ],
      "metadata": {
        "id": "Z6ZmaRN3Ulof"
      },
      "execution_count": null,
      "outputs": []
    },
    {
      "cell_type": "code",
      "source": [
        "node1.nextval = node2     # link all the nodes\n",
        "node2.nextval = node3\n",
        "node3.nextval = node4\n",
        "node4.nextval = node5\n",
        "node5.nextval = node6"
      ],
      "metadata": {
        "id": "emXwBfE4U5IH"
      },
      "execution_count": null,
      "outputs": []
    },
    {
      "cell_type": "code",
      "source": [
        "headr.link()    # call the function "
      ],
      "metadata": {
        "colab": {
          "base_uri": "https://localhost:8080/"
        },
        "id": "M6iHP5BxYQtK",
        "outputId": "ae559f24-2234-4fda-c97d-76ab6cfc5735"
      },
      "execution_count": null,
      "outputs": [
        {
          "output_type": "stream",
          "name": "stdout",
          "text": [
            "monday\n",
            "tuesday\n",
            "wednesday\n",
            "thursday\n",
            "friday\n",
            "saturday\n"
          ]
        }
      ]
    },
    {
      "cell_type": "markdown",
      "source": [
        "# STACK -- Last In First Out"
      ],
      "metadata": {
        "id": "o8tGaukAcHGU"
      }
    },
    {
      "cell_type": "code",
      "source": [
        "class Stack:\n",
        "  \n",
        "  def __init__(self):   # creating an empty stack (which is a list) \n",
        "    self.lis = []\n",
        "  \n",
        "  def push(self,elements):    # to push the data into stack\n",
        "    self.lis.append(elements)\n",
        "    return self.lis\n",
        "  \n",
        "  def pop(self):          # to pull the data from stack\n",
        "    return self.lis.pop()     #(push and pull take place at the same end)\n",
        "  \n",
        "  def printstack(self):   # to print the stack\n",
        "    return self.lis"
      ],
      "metadata": {
        "id": "D9queaVFKgYE"
      },
      "execution_count": null,
      "outputs": []
    },
    {
      "cell_type": "code",
      "source": [
        "x = Stack()"
      ],
      "metadata": {
        "id": "3LXKIb6GLQLE"
      },
      "execution_count": null,
      "outputs": []
    },
    {
      "cell_type": "code",
      "source": [
        "x.push(2)"
      ],
      "metadata": {
        "id": "XuqWTYXGLYRS",
        "colab": {
          "base_uri": "https://localhost:8080/"
        },
        "outputId": "cd0cf9aa-f545-47e5-afac-9f1b767d691d"
      },
      "execution_count": null,
      "outputs": [
        {
          "output_type": "execute_result",
          "data": {
            "text/plain": [
              "[2]"
            ]
          },
          "metadata": {},
          "execution_count": 532
        }
      ]
    },
    {
      "cell_type": "code",
      "source": [
        "x.push(3)"
      ],
      "metadata": {
        "colab": {
          "base_uri": "https://localhost:8080/"
        },
        "id": "42Y8yPg0McX0",
        "outputId": "c5147f48-cf87-4c23-e08c-9da6a8bd88aa"
      },
      "execution_count": null,
      "outputs": [
        {
          "output_type": "execute_result",
          "data": {
            "text/plain": [
              "[2, 3]"
            ]
          },
          "metadata": {},
          "execution_count": 533
        }
      ]
    },
    {
      "cell_type": "code",
      "source": [
        "x.push(5)"
      ],
      "metadata": {
        "colab": {
          "base_uri": "https://localhost:8080/"
        },
        "id": "O6LjnL_TMjGg",
        "outputId": "d5ccb6be-9225-40eb-845f-38c7d45a8a18"
      },
      "execution_count": null,
      "outputs": [
        {
          "output_type": "execute_result",
          "data": {
            "text/plain": [
              "[2, 3, 5]"
            ]
          },
          "metadata": {},
          "execution_count": 534
        }
      ]
    },
    {
      "cell_type": "code",
      "source": [
        "x.push(7)"
      ],
      "metadata": {
        "colab": {
          "base_uri": "https://localhost:8080/"
        },
        "id": "cWQ3X7u1Ml8G",
        "outputId": "d769e727-ff4c-4731-fb0c-52e199e28fbc"
      },
      "execution_count": null,
      "outputs": [
        {
          "output_type": "execute_result",
          "data": {
            "text/plain": [
              "[2, 3, 5, 7]"
            ]
          },
          "metadata": {},
          "execution_count": 535
        }
      ]
    },
    {
      "cell_type": "code",
      "source": [
        "x.push(4)"
      ],
      "metadata": {
        "colab": {
          "base_uri": "https://localhost:8080/"
        },
        "id": "STTnIlsyMvAB",
        "outputId": "52c63226-ca90-40c7-bf95-8603f06eed1f"
      },
      "execution_count": null,
      "outputs": [
        {
          "output_type": "execute_result",
          "data": {
            "text/plain": [
              "[2, 3, 5, 7, 4]"
            ]
          },
          "metadata": {},
          "execution_count": 536
        }
      ]
    },
    {
      "cell_type": "code",
      "source": [
        "x.push(1)"
      ],
      "metadata": {
        "colab": {
          "base_uri": "https://localhost:8080/"
        },
        "id": "P7uvzj3YMxmi",
        "outputId": "84964713-e7a7-4826-88a5-4a0ed8e0797c"
      },
      "execution_count": null,
      "outputs": [
        {
          "output_type": "execute_result",
          "data": {
            "text/plain": [
              "[2, 3, 5, 7, 4, 1]"
            ]
          },
          "metadata": {},
          "execution_count": 537
        }
      ]
    },
    {
      "cell_type": "code",
      "source": [
        "x.pop()"
      ],
      "metadata": {
        "colab": {
          "base_uri": "https://localhost:8080/"
        },
        "id": "FSrbDKeqNIgR",
        "outputId": "6934593b-fb03-4df9-90c6-39a3b4c4912c"
      },
      "execution_count": null,
      "outputs": [
        {
          "output_type": "execute_result",
          "data": {
            "text/plain": [
              "1"
            ]
          },
          "metadata": {},
          "execution_count": 538
        }
      ]
    },
    {
      "cell_type": "code",
      "source": [
        "x.printstack()"
      ],
      "metadata": {
        "colab": {
          "base_uri": "https://localhost:8080/"
        },
        "id": "0cvHtN_e5PSn",
        "outputId": "7482f0ac-037c-4a2e-eb13-aaa0bade99ce"
      },
      "execution_count": null,
      "outputs": [
        {
          "output_type": "execute_result",
          "data": {
            "text/plain": [
              "[2, 3, 5, 7, 4]"
            ]
          },
          "metadata": {},
          "execution_count": 539
        }
      ]
    },
    {
      "cell_type": "code",
      "source": [
        "x.pop()"
      ],
      "metadata": {
        "colab": {
          "base_uri": "https://localhost:8080/"
        },
        "id": "sOs9uKMxNMnk",
        "outputId": "b24201ca-6ab5-4a8b-e0d2-6dbefe32e445"
      },
      "execution_count": null,
      "outputs": [
        {
          "output_type": "execute_result",
          "data": {
            "text/plain": [
              "4"
            ]
          },
          "metadata": {},
          "execution_count": 540
        }
      ]
    },
    {
      "cell_type": "code",
      "source": [
        "x.printstack()"
      ],
      "metadata": {
        "colab": {
          "base_uri": "https://localhost:8080/"
        },
        "id": "7TXNad7N5RK8",
        "outputId": "ddba5e46-2b28-4434-f0ed-541dbffc0016"
      },
      "execution_count": null,
      "outputs": [
        {
          "output_type": "execute_result",
          "data": {
            "text/plain": [
              "[2, 3, 5, 7]"
            ]
          },
          "metadata": {},
          "execution_count": 541
        }
      ]
    },
    {
      "cell_type": "code",
      "source": [
        "x.pop()"
      ],
      "metadata": {
        "id": "uXgRvf6wNdRv",
        "outputId": "304aac46-f564-4fda-f8aa-be00f5e76dbb",
        "colab": {
          "base_uri": "https://localhost:8080/"
        }
      },
      "execution_count": null,
      "outputs": [
        {
          "output_type": "execute_result",
          "data": {
            "text/plain": [
              "7"
            ]
          },
          "metadata": {},
          "execution_count": 542
        }
      ]
    },
    {
      "cell_type": "code",
      "source": [
        "x.printstack()"
      ],
      "metadata": {
        "colab": {
          "base_uri": "https://localhost:8080/"
        },
        "id": "45bnxP_I5SzV",
        "outputId": "6d9d9ef7-1352-4012-96ae-0ad1ccc5df7e"
      },
      "execution_count": null,
      "outputs": [
        {
          "output_type": "execute_result",
          "data": {
            "text/plain": [
              "[2, 3, 5]"
            ]
          },
          "metadata": {},
          "execution_count": 543
        }
      ]
    },
    {
      "cell_type": "code",
      "source": [
        "x.pop()"
      ],
      "metadata": {
        "id": "MR0VXhk0NfB7",
        "outputId": "97f87b6e-2cc0-4196-b813-cf2a6f4ab9e4",
        "colab": {
          "base_uri": "https://localhost:8080/"
        }
      },
      "execution_count": null,
      "outputs": [
        {
          "output_type": "execute_result",
          "data": {
            "text/plain": [
              "5"
            ]
          },
          "metadata": {},
          "execution_count": 544
        }
      ]
    },
    {
      "cell_type": "code",
      "source": [
        "x.printstack()"
      ],
      "metadata": {
        "colab": {
          "base_uri": "https://localhost:8080/"
        },
        "id": "1X_h1iWL5Ugv",
        "outputId": "74b9b6ae-d00e-4ef8-af3a-637998276e19"
      },
      "execution_count": null,
      "outputs": [
        {
          "output_type": "execute_result",
          "data": {
            "text/plain": [
              "[2, 3]"
            ]
          },
          "metadata": {},
          "execution_count": 545
        }
      ]
    },
    {
      "cell_type": "code",
      "source": [
        "x.pop()"
      ],
      "metadata": {
        "id": "HiShBFOQNfFS",
        "outputId": "ad5b73aa-a9ae-4317-a60c-7503da669d3a",
        "colab": {
          "base_uri": "https://localhost:8080/"
        }
      },
      "execution_count": null,
      "outputs": [
        {
          "output_type": "execute_result",
          "data": {
            "text/plain": [
              "3"
            ]
          },
          "metadata": {},
          "execution_count": 546
        }
      ]
    },
    {
      "cell_type": "code",
      "source": [
        "x.printstack()"
      ],
      "metadata": {
        "colab": {
          "base_uri": "https://localhost:8080/"
        },
        "id": "Z-nCd1Z_5V7v",
        "outputId": "accd1233-d5a4-4f40-c9ab-4f8062f862fc"
      },
      "execution_count": null,
      "outputs": [
        {
          "output_type": "execute_result",
          "data": {
            "text/plain": [
              "[2]"
            ]
          },
          "metadata": {},
          "execution_count": 547
        }
      ]
    },
    {
      "cell_type": "code",
      "source": [
        "x.pop()"
      ],
      "metadata": {
        "id": "RXXy8I6uNfUr",
        "outputId": "fa05e831-3d97-4d3f-a17e-9a5e9d7a22ea",
        "colab": {
          "base_uri": "https://localhost:8080/"
        }
      },
      "execution_count": null,
      "outputs": [
        {
          "output_type": "execute_result",
          "data": {
            "text/plain": [
              "2"
            ]
          },
          "metadata": {},
          "execution_count": 548
        }
      ]
    },
    {
      "cell_type": "code",
      "source": [
        "x.printstack()"
      ],
      "metadata": {
        "colab": {
          "base_uri": "https://localhost:8080/"
        },
        "id": "TzaDk5sY5XXX",
        "outputId": "b64dc5bb-6181-45db-9069-962d74c060b6"
      },
      "execution_count": null,
      "outputs": [
        {
          "output_type": "execute_result",
          "data": {
            "text/plain": [
              "[]"
            ]
          },
          "metadata": {},
          "execution_count": 549
        }
      ]
    },
    {
      "cell_type": "markdown",
      "source": [
        "# QUEUE -- First In First Out"
      ],
      "metadata": {
        "id": "aGtG56bic0kT"
      }
    },
    {
      "cell_type": "code",
      "source": [
        "class Queue:\n",
        "  \n",
        "  def __init__(self):   # creating a queue (which is a list)\n",
        "    self.lis = []\n",
        "  \n",
        "  def push(self,elements):    # to push data into queue\n",
        "    self.lis.append(elements)\n",
        "    return self.lis\n",
        "  \n",
        "  def pop(self):          # to pull data from the queue \n",
        "    return self.lis.pop(0)    #(push and pull take place at the different ends)\n",
        "  \n",
        "  def print(self):    # printing the queue\n",
        "    return self.lis"
      ],
      "metadata": {
        "id": "EmO51qCHc5Mb"
      },
      "execution_count": null,
      "outputs": []
    },
    {
      "cell_type": "code",
      "source": [
        "q = Queue()"
      ],
      "metadata": {
        "id": "bYPdrYsHdNTM"
      },
      "execution_count": null,
      "outputs": []
    },
    {
      "cell_type": "code",
      "source": [
        "q.push(\"arjun\")"
      ],
      "metadata": {
        "colab": {
          "base_uri": "https://localhost:8080/"
        },
        "id": "XKwXp1I2dh1j",
        "outputId": "fffb1ed4-54c0-4c7e-e2e1-4259520351c0"
      },
      "execution_count": null,
      "outputs": [
        {
          "output_type": "execute_result",
          "data": {
            "text/plain": [
              "['arjun']"
            ]
          },
          "metadata": {},
          "execution_count": 491
        }
      ]
    },
    {
      "cell_type": "code",
      "source": [
        "q.push(\"suresh\")\n"
      ],
      "metadata": {
        "colab": {
          "base_uri": "https://localhost:8080/"
        },
        "id": "Q_8CyZtBd_DP",
        "outputId": "ebeb6b90-05b4-4645-ba10-6b9bfa810582"
      },
      "execution_count": null,
      "outputs": [
        {
          "output_type": "execute_result",
          "data": {
            "text/plain": [
              "['arjun', 'suresh']"
            ]
          },
          "metadata": {},
          "execution_count": 492
        }
      ]
    },
    {
      "cell_type": "code",
      "source": [
        "q.push(\"sabarinath\")\n"
      ],
      "metadata": {
        "colab": {
          "base_uri": "https://localhost:8080/"
        },
        "id": "JjkRfbAwegr-",
        "outputId": "ac8e055d-d1f3-4a3d-a59e-5c2d0848ca33"
      },
      "execution_count": null,
      "outputs": [
        {
          "output_type": "execute_result",
          "data": {
            "text/plain": [
              "['arjun', 'suresh', 'sabarinath']"
            ]
          },
          "metadata": {},
          "execution_count": 493
        }
      ]
    },
    {
      "cell_type": "code",
      "source": [
        "q.push(\"ramesh\")"
      ],
      "metadata": {
        "colab": {
          "base_uri": "https://localhost:8080/"
        },
        "id": "aZjnWUNzelo9",
        "outputId": "62aba279-989f-431c-c0ec-7660f3b51a70"
      },
      "execution_count": null,
      "outputs": [
        {
          "output_type": "execute_result",
          "data": {
            "text/plain": [
              "['arjun', 'suresh', 'sabarinath', 'ramesh']"
            ]
          },
          "metadata": {},
          "execution_count": 494
        }
      ]
    },
    {
      "cell_type": "code",
      "source": [
        "q.pop()\n"
      ],
      "metadata": {
        "colab": {
          "base_uri": "https://localhost:8080/",
          "height": 35
        },
        "id": "RjJco0LegWKN",
        "outputId": "d087245c-e7d9-4624-d74f-d46ef6ed0212"
      },
      "execution_count": null,
      "outputs": [
        {
          "output_type": "execute_result",
          "data": {
            "application/vnd.google.colaboratory.intrinsic+json": {
              "type": "string"
            },
            "text/plain": [
              "'arjun'"
            ]
          },
          "metadata": {},
          "execution_count": 495
        }
      ]
    },
    {
      "cell_type": "code",
      "source": [
        "q.print()"
      ],
      "metadata": {
        "colab": {
          "base_uri": "https://localhost:8080/"
        },
        "id": "XeLGH3xOzWyR",
        "outputId": "cfef4e2f-2f53-466e-ada6-3964690f7a8b"
      },
      "execution_count": null,
      "outputs": [
        {
          "output_type": "execute_result",
          "data": {
            "text/plain": [
              "['suresh', 'sabarinath', 'ramesh']"
            ]
          },
          "metadata": {},
          "execution_count": 496
        }
      ]
    },
    {
      "cell_type": "code",
      "source": [
        "q.pop()"
      ],
      "metadata": {
        "colab": {
          "base_uri": "https://localhost:8080/",
          "height": 35
        },
        "id": "JF4yWPkgt0Mi",
        "outputId": "98914c62-f9bf-44b4-edfb-797105c3f7ed"
      },
      "execution_count": null,
      "outputs": [
        {
          "output_type": "execute_result",
          "data": {
            "application/vnd.google.colaboratory.intrinsic+json": {
              "type": "string"
            },
            "text/plain": [
              "'suresh'"
            ]
          },
          "metadata": {},
          "execution_count": 497
        }
      ]
    },
    {
      "cell_type": "code",
      "source": [
        "q.print()"
      ],
      "metadata": {
        "colab": {
          "base_uri": "https://localhost:8080/"
        },
        "id": "lIMpxm5euBgw",
        "outputId": "03097b12-31b4-479c-ba81-b1511e09c449"
      },
      "execution_count": null,
      "outputs": [
        {
          "output_type": "execute_result",
          "data": {
            "text/plain": [
              "['sabarinath', 'ramesh']"
            ]
          },
          "metadata": {},
          "execution_count": 498
        }
      ]
    },
    {
      "cell_type": "code",
      "source": [
        "q.pop()\n"
      ],
      "metadata": {
        "colab": {
          "base_uri": "https://localhost:8080/",
          "height": 35
        },
        "id": "_abtrB8iyXgz",
        "outputId": "1eb8bed9-da22-40dc-a984-954760eab712"
      },
      "execution_count": null,
      "outputs": [
        {
          "output_type": "execute_result",
          "data": {
            "application/vnd.google.colaboratory.intrinsic+json": {
              "type": "string"
            },
            "text/plain": [
              "'sabarinath'"
            ]
          },
          "metadata": {},
          "execution_count": 499
        }
      ]
    },
    {
      "cell_type": "code",
      "source": [
        "q.print()"
      ],
      "metadata": {
        "colab": {
          "base_uri": "https://localhost:8080/"
        },
        "id": "TrB7BWyQzZYO",
        "outputId": "d8050aae-4ae7-4caf-f8c1-2b24e907cf95"
      },
      "execution_count": null,
      "outputs": [
        {
          "output_type": "execute_result",
          "data": {
            "text/plain": [
              "['ramesh']"
            ]
          },
          "metadata": {},
          "execution_count": 500
        }
      ]
    }
  ]
}